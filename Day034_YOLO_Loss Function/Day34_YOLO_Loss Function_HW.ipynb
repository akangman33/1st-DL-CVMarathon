{
 "cells": [
  {
   "cell_type": "markdown",
   "metadata": {
    "colab_type": "text",
    "id": "Bnmm4e85ZBf2"
   },
   "source": [
    "## Day34.YOLO 細節理解 - 損失函數\n",
    "今天的課程，我們講述了\n",
    "* 損失函數是描述模型預測出來的結果和實際的差異的依據    \n",
    "* YOLO 損失函數的設計包含物件位置的定位與物件類別辨識    \n",
    "* YOLO損失函數透過超參數設定模型有不同的辨識能力    \n",
    "\n"
   ]
  },
  {
   "cell_type": "markdown",
   "metadata": {
    "colab_type": "text",
    "id": "exUoZwe5ZBf9"
   },
   "source": [
    "### 作業\n",
    "仔細觀察，bbox 寬高計算損失方式和bbox中心計算損失方式有哪邊不一樣嗎? 為什麼要有不同的設計?\n",
    "![title](HW_answer.png)\n",
    "\n"
   ]
  },
  {
   "cell_type": "markdown",
   "metadata": {},
   "source": [
    "#### bbox 寬高計算損失方式 是寬(w)與高(h)開根號相減後的平方和\n",
    "$\\lambda_{\\text {coord }} \\sum_{i=0}^{S^{2}} \\sum_{j=0}^{n} \\mathbb{1}_{i j}^{\\text {onj }}\\left[(\\sqrt{w_{i}}-\\sqrt{\\hat{w}_{i}})^{2}+(\\sqrt{h_{i}}-\\sqrt{\\hat{h}_{i}})^{2}\\right]$\n",
    "<br>\n",
    "\n",
    "#### bbox中心計算損失方式 為中心點距離平方\n",
    "$\\lambda_{\\text {coord }} \\sum_{i=0}^{S^{2}} \\sum_{j=0}^{B} I_{i j}^{\\text {alij }}\\left[\\left(x_{i}-\\hat{x}_{i}\\right)^{2}+\\left(y_{i}-\\hat{y}_{i}\\right)^{2}\\right]$"
   ]
  },
  {
   "cell_type": "markdown",
   "metadata": {
    "colab": {
     "base_uri": "https://localhost:8080/",
     "height": 34
    },
    "colab_type": "code",
    "executionInfo": {
     "elapsed": 2077,
     "status": "ok",
     "timestamp": 1578021189565,
     "user": {
      "displayName": "Mora chen",
      "photoUrl": "https://lh3.googleusercontent.com/a-/AAuE7mB40f7sDArbZ5_DYq02nNcnLD0Ryaf7AhsASSQeLQ=s64",
      "userId": "03171203089166907199"
     },
     "user_tz": -480
    },
    "id": "8rmQogtPZBf_",
    "outputId": "3259b864-defa-4325-cf44-b0a269d6f1dc"
   },
   "source": [
    "在D27：Bounding Box Regression原理:\n",
    "我們希望框的偏移量不會因為物件的大小而受影響，因此要是我們只是純粹相減兩個框的距離的話，很明顯物件越大其得到的值也會越大。\n",
    "\n",
    "假設大框$Ground\\ Truth\\ box\\ w_{i}=10 , h_{i}=20$, &nbsp; $Predict\\ \\hat{w}_{i}=8, \\hat{h}_{i}=22$, &nbsp; $Loss=(10-8)^2+(20-22)^2=8$<br>\n",
    "假設小框$Ground\\ Truth\\ box\\ w_{i}=3 , h_{i}=5$, &nbsp; $Predict\\ \\hat{w}_{i}=1, \\hat{h}_{i}=7$, &nbsp; $Loss=(3-1)^2+(5-7)^2=8$\n",
    "\n",
    "大框明顯比小框的誤差要小, 但是當不開根號Loss是相同的<br>\n",
    "開根號後大框Loss為0.116<br>\n",
    "小框Loss為0.322"
   ]
  },
  {
   "cell_type": "code",
   "execution_count": 1,
   "metadata": {},
   "outputs": [
    {
     "data": {
      "text/plain": [
       "<matplotlib.image.AxesImage at 0x7f77d622dd68>"
      ]
     },
     "execution_count": 1,
     "metadata": {},
     "output_type": "execute_result"
    },
    {
     "data": {
      "image/png": "[encoded data removed]",
      "text/plain": [
       "<Figure size 432x288 with 2 Axes>"
      ]
     },
     "metadata": {
      "needs_background": "light"
     },
     "output_type": "display_data"
    }
   ],
   "source": [
    "import numpy as np\n",
    "import matplotlib.pyplot as plt\n",
    "import cv2\n",
    "%matplotlib inline\n",
    "\n",
    "ground = np.zeros((40,40,3))\n",
    "cv2.rectangle(ground, (10,10), (20,30), (0,0,255), 1)\n",
    "cv2.rectangle(ground, (10,10), (18,32), (255,0,0), 1)\n",
    "plt.subplot(1,2,1)\n",
    "plt.imshow(ground.astype('uint8'))\n",
    "\n",
    "ground = np.zeros((20,20,3))\n",
    "cv2.rectangle(ground, (10,10), (13,15), (0,0,255), 1)\n",
    "cv2.rectangle(ground, (10,10), (11,17), (255,0,0), 1)\n",
    "plt.subplot(1,2,2)\n",
    "plt.imshow(ground.astype('uint8'))"
   ]
  },
  {
   "cell_type": "markdown",
   "metadata": {},
   "source": [
    "### [You Only Look Once: Unified, Real-Time Object Detection](https://arxiv.org/abs/1506.02640)\n",
    "__Sum-squared error also equally weights errors in large boxes and small boxes__.<br>\n",
    "Our error metric should reflect that small deviations in __large boxes matter less than in small boxes__.<br>\n",
    "To partially address this __we predict the square root of the bounding box width and height instead of the widthand height directly.__"
   ]
  }
 ],
 "metadata": {
  "colab": {
   "name": "Day34.YOLO 細節理解 - 損失函數_HW.ipynb",
   "provenance": []
  },
  "kernelspec": {
   "display_name": "Python 3",
   "language": "python",
   "name": "python3"
  },
  "language_info": {
   "codemirror_mode": {
    "name": "ipython",
    "version": 3
   },
   "file_extension": ".py",
   "mimetype": "text/x-python",
   "name": "python",
   "nbconvert_exporter": "python",
   "pygments_lexer": "ipython3",
   "version": "3.6.9"
  }
 },
 "nbformat": 4,
 "nbformat_minor": 1
}
