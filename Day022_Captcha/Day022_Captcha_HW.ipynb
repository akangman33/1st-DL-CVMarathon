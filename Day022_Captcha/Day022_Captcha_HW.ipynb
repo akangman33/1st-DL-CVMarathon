{
 "cells": [
  {
   "cell_type": "markdown",
   "metadata": {},
   "source": [
    "## 『本次練習內容』\n",
    "#### 搭建一個能識別驗證碼的模型(CNN+CTC)"
   ]
  },
  {
   "cell_type": "markdown",
   "metadata": {},
   "source": [
    "## 『本次練習目的』\n",
    "  #### 了解如何結合CNN與CTC Loss\n",
    "  #### 有時間學員也可以延伸閱讀CNN+RNN+CTC模型\n",
    "  #### 沒有GPU的學員可以使用Colab，可以參考問答區的文章"
   ]
  },
  {
   "cell_type": "code",
   "execution_count": 1,
   "metadata": {},
   "outputs": [],
   "source": [
    "## 使用Colab可先run這裡的code\n",
    "#假如要連結自己的雲端硬碟再開啟\n",
    "##from google.colab import drive\n",
    "##drive.mount('/content/gdrive')\n",
    "#檢查GPU\n",
    "##!nvidia-smi\n",
    "##安裝產生驗證碼的套件"
   ]
  },
  {
   "cell_type": "markdown",
   "metadata": {},
   "source": [
    "## 記得先 pip install captcha"
   ]
  },
  {
   "cell_type": "code",
   "execution_count": 2,
   "metadata": {
    "colab": {
     "base_uri": "https://localhost:8080/",
     "height": 136
    },
    "colab_type": "code",
    "id": "AxGi02yvx1Go",
    "outputId": "e7bf7eb2-6699-441b-d724-6b5635ffa2bc"
   },
   "outputs": [],
   "source": [
    "##!pip install captcha"
   ]
  },
  {
   "cell_type": "markdown",
   "metadata": {},
   "source": [
    "## 產生驗證碼"
   ]
  },
  {
   "cell_type": "code",
   "execution_count": 3,
   "metadata": {
    "colab": {
     "base_uri": "https://localhost:8080/",
     "height": 254
    },
    "colab_type": "code",
    "id": "h2VVCBKwk6Zv",
    "outputId": "72cda421-1eca-46b1-d5bd-3b3d9e47eb08"
   },
   "outputs": [
    {
     "name": "stdout",
     "output_type": "stream",
     "text": [
      "0123456789ABCDEFGHIJKLMNOPQRSTUVWXYZ\n"
     ]
    },
    {
     "data": {
      "text/plain": [
       "Text(0.5, 1.0, 'EX2Z')"
      ]
     },
     "execution_count": 3,
     "metadata": {},
     "output_type": "execute_result"
    },
    {
     "data": {
      "image/png": "[encoded data removed]",
      "text/plain": [
       "<Figure size 432x288 with 1 Axes>"
      ]
     },
     "metadata": {
      "image/png": {
       "height": 203,
       "width": 369
      },
      "needs_background": "light"
     },
     "output_type": "display_data"
    }
   ],
   "source": [
    "from captcha.image import ImageCaptcha\n",
    "import matplotlib.pyplot as plt\n",
    "import numpy as np\n",
    "import random\n",
    "import os\n",
    "os.environ[\"CUDA_VISIBLE_DEVICES\"] = \"1\"\n",
    "\n",
    "import tensorflow as tf\n",
    "config = tf.ConfigProto()\n",
    "config.gpu_options.allow_growth=True\n",
    "sess = tf.Session(config=config)\n",
    "\n",
    "%matplotlib inline\n",
    "%config InlineBackend.figure_format = 'retina'\n",
    "\n",
    "import string\n",
    "##驗證碼包含0-10數字以及26個英文字母\n",
    "characters = string.digits + string.ascii_uppercase\n",
    "print(characters)\n",
    "\n",
    "##設定產生圖片尺寸，以及總類別，n_class之所以要加一是為了留一個位置給Blank\n",
    "width, height, n_len, n_class = 170, 80, 4, len(characters)+1\n",
    "\n",
    "##設定產生驗證碼的generator\n",
    "generator = ImageCaptcha(width=width, height=height)\n",
    "\n",
    "##我們先練習固定長度4個字的驗證碼\n",
    "random_str = ''.join([random.choice(characters) for j in range(4)])\n",
    "img = generator.generate_image(random_str)\n",
    "\n",
    "plt.imshow(img)\n",
    "plt.title(random_str)"
   ]
  },
  {
   "cell_type": "markdown",
   "metadata": {},
   "source": [
    "## 自己搭建一個CNN模型使得output feature Map 高度被壓縮成小於4，8<寬度<20\n",
    "#### 解答的output feature Map 為 (batch_size,1,13,32)"
   ]
  },
  {
   "cell_type": "code",
   "execution_count": 4,
   "metadata": {},
   "outputs": [
    {
     "name": "stderr",
     "output_type": "stream",
     "text": [
      "Using TensorFlow backend.\n"
     ]
    }
   ],
   "source": [
    "from keras import backend as K\n",
    "import keras\n",
    "\n",
    "##CTC Loss需要四個資訊，分別是\n",
    "## Label\n",
    "## 預測\n",
    "## CNN OUTPUT寬度\n",
    "## 預測影像所包含文字長度\n",
    "def ctc_lambda_func(args):\n",
    "    y_pred, labels, input_length, label_length = args\n",
    "    return K.ctc_batch_cost(labels, y_pred, input_length, label_length)"
   ]
  },
  {
   "cell_type": "code",
   "execution_count": 5,
   "metadata": {
    "colab": {
     "base_uri": "https://localhost:8080/",
     "height": 136
    },
    "colab_type": "code",
    "id": "KX3Jq1sClGGn",
    "outputId": "ea40671a-fc3b-4758-8d29-4692252e840d"
   },
   "outputs": [
    {
     "name": "stdout",
     "output_type": "stream",
     "text": [
      "WARNING:tensorflow:From /home/yanroo/anaconda3/envs/Keras/lib/python3.6/site-packages/keras/backend/tensorflow_backend.py:66: The name tf.get_default_graph is deprecated. Please use tf.compat.v1.get_default_graph instead.\n",
      "\n",
      "WARNING:tensorflow:From /home/yanroo/anaconda3/envs/Keras/lib/python3.6/site-packages/keras/backend/tensorflow_backend.py:541: The name tf.placeholder is deprecated. Please use tf.compat.v1.placeholder instead.\n",
      "\n",
      "WARNING:tensorflow:From /home/yanroo/anaconda3/envs/Keras/lib/python3.6/site-packages/keras/backend/tensorflow_backend.py:4432: The name tf.random_uniform is deprecated. Please use tf.random.uniform instead.\n",
      "\n",
      "WARNING:tensorflow:From /home/yanroo/anaconda3/envs/Keras/lib/python3.6/site-packages/keras/backend/tensorflow_backend.py:190: The name tf.get_default_session is deprecated. Please use tf.compat.v1.get_default_session instead.\n",
      "\n",
      "WARNING:tensorflow:From /home/yanroo/anaconda3/envs/Keras/lib/python3.6/site-packages/keras/backend/tensorflow_backend.py:197: The name tf.ConfigProto is deprecated. Please use tf.compat.v1.ConfigProto instead.\n",
      "\n"
     ]
    },
    {
     "name": "stderr",
     "output_type": "stream",
     "text": [
      "/home/yanroo/anaconda3/envs/Keras/lib/python3.6/site-packages/keras/activations.py:235: UserWarning: Do not pass a layer instance (such as LeakyReLU) as the activation argument of another layer. Instead, advanced activation layers should be used just like any other layer in a model.\n",
      "  identifier=identifier.__class__.__name__))\n"
     ]
    },
    {
     "name": "stdout",
     "output_type": "stream",
     "text": [
      "WARNING:tensorflow:From /home/yanroo/anaconda3/envs/Keras/lib/python3.6/site-packages/keras/backend/tensorflow_backend.py:2041: The name tf.nn.fused_batch_norm is deprecated. Please use tf.compat.v1.nn.fused_batch_norm instead.\n",
      "\n",
      "WARNING:tensorflow:From /home/yanroo/anaconda3/envs/Keras/lib/python3.6/site-packages/keras/backend/tensorflow_backend.py:4267: The name tf.nn.max_pool is deprecated. Please use tf.nn.max_pool2d instead.\n",
      "\n",
      "WARNING:tensorflow:From /home/yanroo/anaconda3/envs/Keras/lib/python3.6/site-packages/keras/backend/tensorflow_backend.py:3733: calling dropout (from tensorflow.python.ops.nn_ops) with keep_prob is deprecated and will be removed in a future version.\n",
      "Instructions for updating:\n",
      "Please use `rate` instead of `keep_prob`. Rate should be set to `rate = 1 - keep_prob`.\n",
      "WARNING:tensorflow:From /home/yanroo/anaconda3/envs/Keras/lib/python3.6/site-packages/tensorflow/python/ops/array_ops.py:1354: add_dispatch_support.<locals>.wrapper (from tensorflow.python.ops.array_ops) is deprecated and will be removed in a future version.\n",
      "Instructions for updating:\n",
      "Use tf.where in 2.0, which has the same broadcast rule as np.where\n",
      "WARNING:tensorflow:From /home/yanroo/anaconda3/envs/Keras/lib/python3.6/site-packages/keras/optimizers.py:793: The name tf.train.Optimizer is deprecated. Please use tf.compat.v1.train.Optimizer instead.\n",
      "\n"
     ]
    },
    {
     "name": "stderr",
     "output_type": "stream",
     "text": [
      "/home/yanroo/anaconda3/envs/Keras/lib/python3.6/site-packages/ipykernel_launcher.py:31: UserWarning: Update your `Model` call to the Keras 2 API: `Model(inputs=Tensor(\"in..., outputs=Tensor(\"de...)`\n",
      "/home/yanroo/anaconda3/envs/Keras/lib/python3.6/site-packages/ipykernel_launcher.py:42: UserWarning: Update your `Model` call to the Keras 2 API: `Model(inputs=[<tf.Tenso..., outputs=[<tf.Tenso...)`\n"
     ]
    }
   ],
   "source": [
    "from keras.models import *\n",
    "from keras.layers import *\n",
    "from keras.layers import LeakyReLU\n",
    "rnn_size = 128\n",
    "\n",
    "input_tensor = Input((height,width, 3))\n",
    "x = input_tensor\n",
    "\n",
    "for i in range(4):\n",
    "    x = Conv2D(64*(i+1), 3, activation=LeakyReLU(alpha=0.1))(x)\n",
    "    x = Conv2D(64*(i+1), 3, activation=LeakyReLU(alpha=0.1))(x)\n",
    "    x = BatchNormalization()(x)\n",
    "    x = MaxPooling2D((2, 2))(x)\n",
    "\n",
    "\n",
    "\n",
    "##記錄輸出CNN尺寸，loss部分需要這個資訊\n",
    "##conv_shape=(Batch_size,輸出高度,輸出寬度,輸出深度)\n",
    "conv_shape = x.get_shape()\n",
    "\n",
    "##從(Batch_size,輸出高度,輸出寬度,輸出深度)變成(Batch_size,輸出寬度,輸出深度*輸出高度)，以符合ctc loss需求\n",
    "x = Reshape(target_shape=(int(conv_shape[2]), int(conv_shape[1]*conv_shape[3])))(x)\n",
    "\n",
    "x = Dense(64, activation='relu')(x)\n",
    "\n",
    "x = Dropout(0.25)(x)\n",
    "x = Dense(n_class, activation='softmax')(x)\n",
    "\n",
    "\n",
    "##包裝用來預測的model\n",
    "base_model = Model(input=input_tensor, output=x)\n",
    "\n",
    "\n",
    "##設定要給CTC Loss的資訊\n",
    "labels = Input(name='the_labels', shape=[n_len], dtype='float32')\n",
    "input_length = Input(name='input_length', shape=[1], dtype='int64')\n",
    "label_length = Input(name='label_length', shape=[1], dtype='int64')\n",
    "loss_out = Lambda(ctc_lambda_func, output_shape=(1,), \n",
    "                  name='ctc')([x, labels, input_length, label_length])\n",
    "\n",
    "##這裡的model是用來計算loss\n",
    "model = Model(input=[input_tensor, labels, input_length, label_length], output=[loss_out])\n",
    "\n",
    "##之所以要lambda y_true, y_pred: y_pred是因為我們的loss已經包在網路裡，會output:y_true, y_pred，而我們只需要y_pred\n",
    "model.compile(loss={'ctc': lambda y_true, y_pred: y_pred}, optimizer='sgd')"
   ]
  },
  {
   "cell_type": "code",
   "execution_count": 6,
   "metadata": {
    "colab": {
     "base_uri": "https://localhost:8080/",
     "height": 1000
    },
    "colab_type": "code",
    "id": "m1YRv0TVN_FL",
    "outputId": "c5b995c5-43b0-481b-8cd1-0fd5f85e4f03"
   },
   "outputs": [
    {
     "name": "stdout",
     "output_type": "stream",
     "text": [
      "Model: \"model_2\"\n",
      "__________________________________________________________________________________________________\n",
      "Layer (type)                    Output Shape         Param #     Connected to                     \n",
      "==================================================================================================\n",
      "input_1 (InputLayer)            (None, 80, 170, 3)   0                                            \n",
      "__________________________________________________________________________________________________\n",
      "conv2d_1 (Conv2D)               (None, 78, 168, 64)  1792        input_1[0][0]                    \n",
      "__________________________________________________________________________________________________\n",
      "conv2d_2 (Conv2D)               (None, 76, 166, 64)  36928       conv2d_1[0][0]                   \n",
      "__________________________________________________________________________________________________\n",
      "batch_normalization_1 (BatchNor (None, 76, 166, 64)  256         conv2d_2[0][0]                   \n",
      "__________________________________________________________________________________________________\n",
      "max_pooling2d_1 (MaxPooling2D)  (None, 38, 83, 64)   0           batch_normalization_1[0][0]      \n",
      "__________________________________________________________________________________________________\n",
      "conv2d_3 (Conv2D)               (None, 36, 81, 128)  73856       max_pooling2d_1[0][0]            \n",
      "__________________________________________________________________________________________________\n",
      "conv2d_4 (Conv2D)               (None, 34, 79, 128)  147584      conv2d_3[0][0]                   \n",
      "__________________________________________________________________________________________________\n",
      "batch_normalization_2 (BatchNor (None, 34, 79, 128)  512         conv2d_4[0][0]                   \n",
      "__________________________________________________________________________________________________\n",
      "max_pooling2d_2 (MaxPooling2D)  (None, 17, 39, 128)  0           batch_normalization_2[0][0]      \n",
      "__________________________________________________________________________________________________\n",
      "conv2d_5 (Conv2D)               (None, 15, 37, 192)  221376      max_pooling2d_2[0][0]            \n",
      "__________________________________________________________________________________________________\n",
      "conv2d_6 (Conv2D)               (None, 13, 35, 192)  331968      conv2d_5[0][0]                   \n",
      "__________________________________________________________________________________________________\n",
      "batch_normalization_3 (BatchNor (None, 13, 35, 192)  768         conv2d_6[0][0]                   \n",
      "__________________________________________________________________________________________________\n",
      "max_pooling2d_3 (MaxPooling2D)  (None, 6, 17, 192)   0           batch_normalization_3[0][0]      \n",
      "__________________________________________________________________________________________________\n",
      "conv2d_7 (Conv2D)               (None, 4, 15, 256)   442624      max_pooling2d_3[0][0]            \n",
      "__________________________________________________________________________________________________\n",
      "conv2d_8 (Conv2D)               (None, 2, 13, 256)   590080      conv2d_7[0][0]                   \n",
      "__________________________________________________________________________________________________\n",
      "batch_normalization_4 (BatchNor (None, 2, 13, 256)   1024        conv2d_8[0][0]                   \n",
      "__________________________________________________________________________________________________\n",
      "max_pooling2d_4 (MaxPooling2D)  (None, 1, 6, 256)    0           batch_normalization_4[0][0]      \n",
      "__________________________________________________________________________________________________\n",
      "reshape_1 (Reshape)             (None, 6, 256)       0           max_pooling2d_4[0][0]            \n",
      "__________________________________________________________________________________________________\n",
      "dense_1 (Dense)                 (None, 6, 64)        16448       reshape_1[0][0]                  \n",
      "__________________________________________________________________________________________________\n",
      "dropout_1 (Dropout)             (None, 6, 64)        0           dense_1[0][0]                    \n",
      "__________________________________________________________________________________________________\n",
      "dense_2 (Dense)                 (None, 6, 37)        2405        dropout_1[0][0]                  \n",
      "__________________________________________________________________________________________________\n",
      "the_labels (InputLayer)         (None, 4)            0                                            \n",
      "__________________________________________________________________________________________________\n",
      "input_length (InputLayer)       (None, 1)            0                                            \n",
      "__________________________________________________________________________________________________\n",
      "label_length (InputLayer)       (None, 1)            0                                            \n",
      "__________________________________________________________________________________________________\n",
      "ctc (Lambda)                    (None, 1)            0           dense_2[0][0]                    \n",
      "                                                                 the_labels[0][0]                 \n",
      "                                                                 input_length[0][0]               \n",
      "                                                                 label_length[0][0]               \n",
      "==================================================================================================\n",
      "Total params: 1,867,621\n",
      "Trainable params: 1,866,341\n",
      "Non-trainable params: 1,280\n",
      "__________________________________________________________________________________________________\n"
     ]
    }
   ],
   "source": [
    "model.summary()"
   ]
  },
  {
   "cell_type": "code",
   "execution_count": 7,
   "metadata": {
    "colab": {},
    "colab_type": "code",
    "id": "5Jzb1YnqlJug"
   },
   "outputs": [],
   "source": [
    "##設計generator產生training data\n",
    "## 產生包含要給loss的資訊\n",
    "## X=輸入影像\n",
    "## np.ones(batch_size)*int(conv_shape[2])=CNN輸出feature Map寬度\n",
    "## np.ones(batch_size)*n_len=字串長度(可浮動)\n",
    "\n",
    "def gen(batch_size=128):\n",
    "    X = np.zeros((batch_size,height, width, 3), dtype=np.uint8)\n",
    "    y = np.zeros((batch_size, n_len), dtype=np.uint8)\n",
    "    while True:\n",
    "        generator = ImageCaptcha(width=width, height=height)\n",
    "        for i in range(batch_size):\n",
    "            random_str = ''.join([random.choice(characters) for j in range(4)])\n",
    "            X[i] = np.array(generator.generate_image(random_str))\n",
    "            y[i] = [characters.find(x) for x in random_str]\n",
    "        yield [X, y,np.ones(batch_size)*int(conv_shape[2]), np.ones(batch_size)*n_len], np.ones(batch_size)"
   ]
  },
  {
   "cell_type": "code",
   "execution_count": 8,
   "metadata": {
    "colab": {
     "base_uri": "https://localhost:8080/",
     "height": 225
    },
    "colab_type": "code",
    "id": "dfcFs6InVQaT",
    "outputId": "3f186d49-2e30-4efd-87c0-0670a58bc4c1"
   },
   "outputs": [
    {
     "name": "stdout",
     "output_type": "stream",
     "text": [
      "Label:  [[22 29 11 22]]\n",
      "CNN輸出寬度:  [6.]\n",
      "字串長度(可浮動):  [4.]\n"
     ]
    },
    {
     "data": {
      "image/png": "[encoded data removed]",
      "text/plain": [
       "<Figure size 432x288 with 1 Axes>"
      ]
     },
     "metadata": {
      "image/png": {
       "height": 191,
       "width": 369
      },
      "needs_background": "light"
     },
     "output_type": "display_data"
    }
   ],
   "source": [
    "next_ge=gen(batch_size=1)\n",
    "test_ge=next(next_ge)\n",
    "plt.imshow(test_ge[0][0][0])\n",
    "print('Label: ',test_ge[0][1])\n",
    "print('CNN輸出寬度: ',test_ge[0][2])\n",
    "print('字串長度(可浮動): ',test_ge[0][3])"
   ]
  },
  {
   "cell_type": "markdown",
   "metadata": {},
   "source": [
    "## 開始訓練"
   ]
  },
  {
   "cell_type": "code",
   "execution_count": 9,
   "metadata": {
    "colab": {
     "base_uri": "https://localhost:8080/",
     "height": 1000
    },
    "colab_type": "code",
    "id": "fqdKnqollUKj",
    "outputId": "3da34151-a9df-4287-ead6-50c414d30e65"
   },
   "outputs": [
    {
     "name": "stdout",
     "output_type": "stream",
     "text": [
      "Epoch 1/60\n",
      "300/300 [==============================] - 32s 108ms/step - loss: 11.1115\n",
      "Epoch 2/60\n",
      "300/300 [==============================] - 31s 104ms/step - loss: 6.5918\n",
      "Epoch 3/60\n",
      "300/300 [==============================] - 31s 102ms/step - loss: inf\n",
      "Epoch 4/60\n",
      "300/300 [==============================] - 30s 101ms/step - loss: inf\n",
      "Epoch 5/60\n",
      "300/300 [==============================] - 31s 103ms/step - loss: 4.4746\n",
      "Epoch 6/60\n",
      "300/300 [==============================] - 31s 103ms/step - loss: 4.1287\n",
      "Epoch 7/60\n",
      "300/300 [==============================] - 30s 101ms/step - loss: 3.9593\n",
      "Epoch 8/60\n",
      "300/300 [==============================] - 31s 103ms/step - loss: 3.6783\n",
      "Epoch 9/60\n",
      "300/300 [==============================] - 31s 102ms/step - loss: 3.4417\n",
      "Epoch 10/60\n",
      "300/300 [==============================] - 31s 103ms/step - loss: 3.3465\n",
      "Epoch 11/60\n",
      "300/300 [==============================] - 31s 102ms/step - loss: 3.2088\n",
      "Epoch 12/60\n",
      "300/300 [==============================] - 31s 104ms/step - loss: inf\n",
      "Epoch 13/60\n",
      "300/300 [==============================] - 31s 102ms/step - loss: 2.9892\n",
      "Epoch 14/60\n",
      "300/300 [==============================] - 24s 79ms/step - loss: 2.8638\n",
      "Epoch 15/60\n",
      "300/300 [==============================] - 21s 70ms/step - loss: 2.7320\n",
      "Epoch 16/60\n",
      "300/300 [==============================] - 21s 70ms/step - loss: 2.6196\n",
      "Epoch 17/60\n",
      "300/300 [==============================] - 21s 69ms/step - loss: inf\n",
      "Epoch 18/60\n",
      "300/300 [==============================] - 21s 71ms/step - loss: 2.4523\n",
      "Epoch 19/60\n",
      "300/300 [==============================] - 21s 70ms/step - loss: 2.4011\n",
      "Epoch 20/60\n",
      "300/300 [==============================] - 21s 69ms/step - loss: 2.2955\n",
      "Epoch 21/60\n",
      "300/300 [==============================] - 21s 70ms/step - loss: 2.1936\n",
      "Epoch 22/60\n",
      "300/300 [==============================] - 21s 71ms/step - loss: 2.1488\n",
      "Epoch 23/60\n",
      "300/300 [==============================] - 21s 70ms/step - loss: 2.1216\n",
      "Epoch 24/60\n",
      "300/300 [==============================] - 21s 70ms/step - loss: 2.0348\n",
      "Epoch 25/60\n",
      "300/300 [==============================] - 21s 69ms/step - loss: 1.9967\n",
      "Epoch 26/60\n",
      "300/300 [==============================] - 21s 70ms/step - loss: 1.9189\n",
      "Epoch 27/60\n",
      "300/300 [==============================] - 21s 70ms/step - loss: 1.9236\n",
      "Epoch 28/60\n",
      "300/300 [==============================] - 21s 69ms/step - loss: 1.8774\n",
      "Epoch 29/60\n",
      "300/300 [==============================] - 21s 70ms/step - loss: inf\n",
      "Epoch 30/60\n",
      "300/300 [==============================] - 21s 71ms/step - loss: 1.7704\n",
      "Epoch 31/60\n",
      "300/300 [==============================] - 21s 71ms/step - loss: 1.6966\n",
      "Epoch 32/60\n",
      "300/300 [==============================] - 26s 86ms/step - loss: 1.7020\n",
      "Epoch 33/60\n",
      "300/300 [==============================] - 25s 83ms/step - loss: 1.7258\n",
      "Epoch 34/60\n",
      "300/300 [==============================] - 30s 101ms/step - loss: inf\n",
      "Epoch 35/60\n",
      "300/300 [==============================] - 30s 101ms/step - loss: inf\n",
      "Epoch 36/60\n",
      "300/300 [==============================] - 30s 101ms/step - loss: 1.5739\n",
      "Epoch 37/60\n",
      "300/300 [==============================] - 30s 99ms/step - loss: 1.5772\n",
      "Epoch 38/60\n",
      "300/300 [==============================] - 31s 104ms/step - loss: inf\n",
      "Epoch 39/60\n",
      "300/300 [==============================] - 31s 103ms/step - loss: 1.5862\n",
      "Epoch 40/60\n",
      "300/300 [==============================] - 30s 101ms/step - loss: 1.5199\n",
      "Epoch 41/60\n",
      "300/300 [==============================] - 31s 105ms/step - loss: 1.4900\n",
      "Epoch 42/60\n",
      "300/300 [==============================] - 31s 102ms/step - loss: 1.4299\n",
      "Epoch 43/60\n",
      "300/300 [==============================] - 32s 105ms/step - loss: 1.4819\n",
      "Epoch 44/60\n",
      "300/300 [==============================] - 30s 101ms/step - loss: 1.4448\n",
      "Epoch 45/60\n",
      "300/300 [==============================] - 31s 103ms/step - loss: 1.4236\n",
      "Epoch 46/60\n",
      "300/300 [==============================] - 31s 103ms/step - loss: 1.4338\n",
      "Epoch 47/60\n",
      "300/300 [==============================] - 30s 101ms/step - loss: 1.3669\n",
      "Epoch 48/60\n",
      "300/300 [==============================] - 31s 102ms/step - loss: 1.3534\n",
      "Epoch 49/60\n",
      "300/300 [==============================] - 30s 101ms/step - loss: inf\n",
      "Epoch 50/60\n",
      "300/300 [==============================] - 31s 104ms/step - loss: 1.3230\n",
      "Epoch 51/60\n",
      "300/300 [==============================] - 31s 102ms/step - loss: inf\n",
      "Epoch 52/60\n",
      "300/300 [==============================] - 30s 100ms/step - loss: 1.3054\n",
      "Epoch 53/60\n",
      "300/300 [==============================] - 31s 104ms/step - loss: 1.3460\n",
      "Epoch 54/60\n",
      "300/300 [==============================] - 32s 105ms/step - loss: inf\n",
      "Epoch 55/60\n",
      "300/300 [==============================] - 31s 103ms/step - loss: 1.2388\n",
      "Epoch 56/60\n",
      "300/300 [==============================] - 30s 101ms/step - loss: 1.2530\n",
      "Epoch 57/60\n",
      "300/300 [==============================] - 31s 103ms/step - loss: 1.2604\n",
      "Epoch 58/60\n",
      "300/300 [==============================] - 30s 100ms/step - loss: 1.2753\n",
      "Epoch 59/60\n",
      "300/300 [==============================] - 31s 102ms/step - loss: 1.1895\n",
      "Epoch 60/60\n",
      "300/300 [==============================] - 31s 102ms/step - loss: 1.2561\n"
     ]
    },
    {
     "data": {
      "text/plain": [
       "<keras.callbacks.History at 0x7f6d3c30ff98>"
      ]
     },
     "execution_count": 9,
     "metadata": {},
     "output_type": "execute_result"
    }
   ],
   "source": [
    "model.fit_generator(gen(32), steps_per_epoch=300, epochs=60)"
   ]
  },
  {
   "cell_type": "markdown",
   "metadata": {},
   "source": [
    "## 預測"
   ]
  },
  {
   "cell_type": "code",
   "execution_count": 10,
   "metadata": {},
   "outputs": [
    {
     "data": {
      "image/png": "[encoded data removed]",
      "text/plain": [
       "<Figure size 432x288 with 1 Axes>"
      ]
     },
     "metadata": {
      "image/png": {
       "height": 217,
       "width": 369
      },
      "needs_background": "light"
     },
     "output_type": "display_data"
    }
   ],
   "source": [
    "characters2 = characters + ' '\n",
    "[X_test, y_test, _, _], _  = next(gen(1))\n",
    "y_pred = base_model.predict(X_test)\n",
    "##用ctc_decode得到解答，自己寫可以參考下方\n",
    "out = K.get_value(K.ctc_decode(y_pred, input_length=np.ones(y_pred.shape[0])*y_pred.shape[1], )[0][0])\n",
    "out = ''.join([characters[x] for x in out[0]])\n",
    "y_true = ''.join([characters[x] for x in y_test[0]])\n",
    "\n",
    "plt.imshow(X_test[0])\n",
    "plt.title('pred:' + str(out) + '\\ntrue: ' + str(y_true))\n",
    "\n",
    "argmax = np.argmax(y_pred, axis=2)[0]"
   ]
  },
  {
   "cell_type": "code",
   "execution_count": 11,
   "metadata": {},
   "outputs": [
    {
     "name": "stdout",
     "output_type": "stream",
     "text": [
      "Accuracy:  0.63\n"
     ]
    }
   ],
   "source": [
    "correct = 0\n",
    "for i in range(100):\n",
    "    [X_test, y_test, _, _], _  = next(gen(1))\n",
    "    y_pred = base_model.predict(X_test)\n",
    "    ##用ctc_decode得到解答，自己寫可以參考下方\n",
    "    out = K.get_value(K.ctc_decode(y_pred, input_length=np.ones(y_pred.shape[0])*y_pred.shape[1], )[0][0])\n",
    "    out = ''.join([characters[x] for x in out[0]])\n",
    "    y_true = ''.join([characters[x] for x in y_test[0]])\n",
    "    if y_true == out:\n",
    "        correct += 1\n",
    "\n",
    "\n",
    "\n",
    "print(\"Accuracy: \", correct/100)"
   ]
  },
  {
   "cell_type": "markdown",
   "metadata": {},
   "source": [
    "## 自己寫 decode CTC"
   ]
  },
  {
   "cell_type": "code",
   "execution_count": 12,
   "metadata": {},
   "outputs": [],
   "source": [
    "## 其中0代表預測為空格，如果預測相同字符之間沒有空格要移除\n",
    "word=''\n",
    "n=''\n",
    "for single_result in y_pred[0].argmax(1):\n",
    "    if single_result != 36:\n",
    "        if n != single_result:\n",
    "            word+=characters[single_result]\n",
    "    n=single_result "
   ]
  },
  {
   "cell_type": "markdown",
   "metadata": {},
   "source": [
    "## 額外參考：加入RNN的神經網路"
   ]
  },
  {
   "cell_type": "code",
   "execution_count": 13,
   "metadata": {},
   "outputs": [
    {
     "name": "stderr",
     "output_type": "stream",
     "text": [
      "/home/yanroo/anaconda3/envs/Keras/lib/python3.6/site-packages/ipykernel_launcher.py:23: UserWarning: Update your `GRU` call to the Keras 2 API: `GRU(128, return_sequences=True, name=\"gru1\", kernel_initializer=\"he_normal\")`\n",
      "/home/yanroo/anaconda3/envs/Keras/lib/python3.6/site-packages/ipykernel_launcher.py:25: UserWarning: Update your `GRU` call to the Keras 2 API: `GRU(128, return_sequences=True, go_backwards=True, name=\"gru1_b\", kernel_initializer=\"he_normal\")`\n",
      "/home/yanroo/anaconda3/envs/Keras/lib/python3.6/site-packages/ipykernel_launcher.py:28: UserWarning: Update your `GRU` call to the Keras 2 API: `GRU(128, return_sequences=True, name=\"gru2\", kernel_initializer=\"he_normal\")`\n",
      "/home/yanroo/anaconda3/envs/Keras/lib/python3.6/site-packages/ipykernel_launcher.py:30: UserWarning: Update your `GRU` call to the Keras 2 API: `GRU(128, return_sequences=True, go_backwards=True, name=\"gru2_b\", kernel_initializer=\"he_normal\")`\n",
      "/home/yanroo/anaconda3/envs/Keras/lib/python3.6/site-packages/ipykernel_launcher.py:34: UserWarning: Update your `Dense` call to the Keras 2 API: `Dense(37, activation=\"softmax\", kernel_initializer=\"he_normal\")`\n",
      "/home/yanroo/anaconda3/envs/Keras/lib/python3.6/site-packages/ipykernel_launcher.py:36: UserWarning: Update your `Model` call to the Keras 2 API: `Model(inputs=Tensor(\"in..., outputs=Tensor(\"de...)`\n",
      "/home/yanroo/anaconda3/envs/Keras/lib/python3.6/site-packages/ipykernel_launcher.py:44: UserWarning: Update your `Model` call to the Keras 2 API: `Model(inputs=[<tf.Tenso..., outputs=[<tf.Tenso...)`\n"
     ]
    }
   ],
   "source": [
    "from keras.models import *\n",
    "from keras.layers import *\n",
    "rnn_size = 128\n",
    "\n",
    "input_tensor = Input((height,width, 3))\n",
    "x = input_tensor\n",
    "for i in range(4):\n",
    "    x = Conv2D(32, 3, activation='relu')(x)\n",
    "    x = keras.layers.BatchNormalization(axis=-1)(x)\n",
    "    x = Conv2D(32, 3, activation='relu')(x)\n",
    "    x = keras.layers.BatchNormalization(axis=-1)(x)\n",
    "    if i <3:\n",
    "        x = MaxPooling2D(pool_size=(2, 2))(x)\n",
    "    else:\n",
    "        x = MaxPooling2D(pool_size=(2, 1))(x)\n",
    "\n",
    "\n",
    "conv_shape = x.get_shape()\n",
    "x = Reshape(target_shape=(int(conv_shape[2]), int(conv_shape[1]*conv_shape[3])))(x)\n",
    "\n",
    "x = Dense(32, activation='relu')(x)\n",
    "\n",
    "gru_1 = GRU(rnn_size, return_sequences=True, init='he_normal', name='gru1')(x)\n",
    "gru_1b = GRU(rnn_size, return_sequences=True, go_backwards=True, \n",
    "             init='he_normal', name='gru1_b')(x)\n",
    "gru1_merged = keras.layers.add([gru_1, gru_1b])\n",
    "\n",
    "gru_2 = GRU(rnn_size, return_sequences=True, init='he_normal', name='gru2')(gru1_merged)\n",
    "gru_2b = GRU(rnn_size, return_sequences=True, go_backwards=True, \n",
    "             init='he_normal', name='gru2_b')(gru1_merged)\n",
    "x = keras.layers.Concatenate()([gru_2, gru_2b])\n",
    "\n",
    "x = Dropout(0.25)(x)\n",
    "x = Dense(n_class, init='he_normal', activation='softmax')(x)\n",
    "\n",
    "base_model = Model(input=input_tensor, output=x)\n",
    "\n",
    "labels = Input(name='the_labels', shape=[n_len], dtype='float32')\n",
    "input_length = Input(name='input_length', shape=[1], dtype='int64')\n",
    "label_length = Input(name='label_length', shape=[1], dtype='int64')\n",
    "loss_out = Lambda(ctc_lambda_func, output_shape=(1,), \n",
    "                  name='ctc')([x, labels, input_length, label_length])\n",
    "\n",
    "model = Model(input=[input_tensor, labels, input_length, label_length], output=[loss_out])\n",
    "model.compile(loss={'ctc': lambda y_true, y_pred: y_pred}, optimizer='Adam')"
   ]
  },
  {
   "cell_type": "code",
   "execution_count": 14,
   "metadata": {},
   "outputs": [
    {
     "name": "stdout",
     "output_type": "stream",
     "text": [
      "Model: \"model_4\"\n",
      "__________________________________________________________________________________________________\n",
      "Layer (type)                    Output Shape         Param #     Connected to                     \n",
      "==================================================================================================\n",
      "input_2 (InputLayer)            (None, 80, 170, 3)   0                                            \n",
      "__________________________________________________________________________________________________\n",
      "conv2d_9 (Conv2D)               (None, 78, 168, 32)  896         input_2[0][0]                    \n",
      "__________________________________________________________________________________________________\n",
      "batch_normalization_5 (BatchNor (None, 78, 168, 32)  128         conv2d_9[0][0]                   \n",
      "__________________________________________________________________________________________________\n",
      "conv2d_10 (Conv2D)              (None, 76, 166, 32)  9248        batch_normalization_5[0][0]      \n",
      "__________________________________________________________________________________________________\n",
      "batch_normalization_6 (BatchNor (None, 76, 166, 32)  128         conv2d_10[0][0]                  \n",
      "__________________________________________________________________________________________________\n",
      "max_pooling2d_5 (MaxPooling2D)  (None, 38, 83, 32)   0           batch_normalization_6[0][0]      \n",
      "__________________________________________________________________________________________________\n",
      "conv2d_11 (Conv2D)              (None, 36, 81, 32)   9248        max_pooling2d_5[0][0]            \n",
      "__________________________________________________________________________________________________\n",
      "batch_normalization_7 (BatchNor (None, 36, 81, 32)   128         conv2d_11[0][0]                  \n",
      "__________________________________________________________________________________________________\n",
      "conv2d_12 (Conv2D)              (None, 34, 79, 32)   9248        batch_normalization_7[0][0]      \n",
      "__________________________________________________________________________________________________\n",
      "batch_normalization_8 (BatchNor (None, 34, 79, 32)   128         conv2d_12[0][0]                  \n",
      "__________________________________________________________________________________________________\n",
      "max_pooling2d_6 (MaxPooling2D)  (None, 17, 39, 32)   0           batch_normalization_8[0][0]      \n",
      "__________________________________________________________________________________________________\n",
      "conv2d_13 (Conv2D)              (None, 15, 37, 32)   9248        max_pooling2d_6[0][0]            \n",
      "__________________________________________________________________________________________________\n",
      "batch_normalization_9 (BatchNor (None, 15, 37, 32)   128         conv2d_13[0][0]                  \n",
      "__________________________________________________________________________________________________\n",
      "conv2d_14 (Conv2D)              (None, 13, 35, 32)   9248        batch_normalization_9[0][0]      \n",
      "__________________________________________________________________________________________________\n",
      "batch_normalization_10 (BatchNo (None, 13, 35, 32)   128         conv2d_14[0][0]                  \n",
      "__________________________________________________________________________________________________\n",
      "max_pooling2d_7 (MaxPooling2D)  (None, 6, 17, 32)    0           batch_normalization_10[0][0]     \n",
      "__________________________________________________________________________________________________\n",
      "conv2d_15 (Conv2D)              (None, 4, 15, 32)    9248        max_pooling2d_7[0][0]            \n",
      "__________________________________________________________________________________________________\n",
      "batch_normalization_11 (BatchNo (None, 4, 15, 32)    128         conv2d_15[0][0]                  \n",
      "__________________________________________________________________________________________________\n",
      "conv2d_16 (Conv2D)              (None, 2, 13, 32)    9248        batch_normalization_11[0][0]     \n",
      "__________________________________________________________________________________________________\n",
      "batch_normalization_12 (BatchNo (None, 2, 13, 32)    128         conv2d_16[0][0]                  \n",
      "__________________________________________________________________________________________________\n",
      "max_pooling2d_8 (MaxPooling2D)  (None, 1, 13, 32)    0           batch_normalization_12[0][0]     \n",
      "__________________________________________________________________________________________________\n",
      "reshape_2 (Reshape)             (None, 13, 32)       0           max_pooling2d_8[0][0]            \n",
      "__________________________________________________________________________________________________\n",
      "dense_3 (Dense)                 (None, 13, 32)       1056        reshape_2[0][0]                  \n",
      "__________________________________________________________________________________________________\n",
      "gru1 (GRU)                      (None, 13, 128)      61824       dense_3[0][0]                    \n",
      "__________________________________________________________________________________________________\n",
      "gru1_b (GRU)                    (None, 13, 128)      61824       dense_3[0][0]                    \n",
      "__________________________________________________________________________________________________\n",
      "add_1 (Add)                     (None, 13, 128)      0           gru1[0][0]                       \n",
      "                                                                 gru1_b[0][0]                     \n",
      "__________________________________________________________________________________________________\n",
      "gru2 (GRU)                      (None, 13, 128)      98688       add_1[0][0]                      \n",
      "__________________________________________________________________________________________________\n",
      "gru2_b (GRU)                    (None, 13, 128)      98688       add_1[0][0]                      \n",
      "__________________________________________________________________________________________________\n",
      "concatenate_1 (Concatenate)     (None, 13, 256)      0           gru2[0][0]                       \n",
      "                                                                 gru2_b[0][0]                     \n",
      "__________________________________________________________________________________________________\n",
      "dropout_2 (Dropout)             (None, 13, 256)      0           concatenate_1[0][0]              \n",
      "__________________________________________________________________________________________________\n",
      "dense_4 (Dense)                 (None, 13, 37)       9509        dropout_2[0][0]                  \n",
      "__________________________________________________________________________________________________\n",
      "the_labels (InputLayer)         (None, 4)            0                                            \n",
      "__________________________________________________________________________________________________\n",
      "input_length (InputLayer)       (None, 1)            0                                            \n",
      "__________________________________________________________________________________________________\n",
      "label_length (InputLayer)       (None, 1)            0                                            \n",
      "__________________________________________________________________________________________________\n",
      "ctc (Lambda)                    (None, 1)            0           dense_4[0][0]                    \n",
      "                                                                 the_labels[0][0]                 \n",
      "                                                                 input_length[0][0]               \n",
      "                                                                 label_length[0][0]               \n",
      "==================================================================================================\n",
      "Total params: 398,245\n",
      "Trainable params: 397,733\n",
      "Non-trainable params: 512\n",
      "__________________________________________________________________________________________________\n"
     ]
    }
   ],
   "source": [
    "model.summary()"
   ]
  },
  {
   "cell_type": "code",
   "execution_count": 15,
   "metadata": {},
   "outputs": [
    {
     "name": "stdout",
     "output_type": "stream",
     "text": [
      "Epoch 1/60\n",
      "300/300 [==============================] - 39s 130ms/step - loss: 14.9373\n",
      "Epoch 2/60\n",
      "300/300 [==============================] - 33s 110ms/step - loss: 5.5819\n",
      "Epoch 3/60\n",
      "300/300 [==============================] - 33s 111ms/step - loss: 2.9023\n",
      "Epoch 4/60\n",
      "300/300 [==============================] - 33s 110ms/step - loss: 2.1677\n",
      "Epoch 5/60\n",
      "300/300 [==============================] - 33s 109ms/step - loss: 1.7798\n",
      "Epoch 6/60\n",
      "300/300 [==============================] - 34s 112ms/step - loss: 1.5107\n",
      "Epoch 7/60\n",
      "300/300 [==============================] - 33s 110ms/step - loss: 1.3612\n",
      "Epoch 8/60\n",
      "300/300 [==============================] - 33s 109ms/step - loss: 1.1976\n",
      "Epoch 9/60\n",
      "300/300 [==============================] - 34s 112ms/step - loss: 1.0966\n",
      "Epoch 10/60\n",
      "300/300 [==============================] - 33s 111ms/step - loss: 1.0632\n",
      "Epoch 11/60\n",
      "300/300 [==============================] - 33s 110ms/step - loss: 0.9686\n",
      "Epoch 12/60\n",
      "300/300 [==============================] - 33s 109ms/step - loss: 0.8551\n",
      "Epoch 13/60\n",
      "300/300 [==============================] - 33s 110ms/step - loss: 0.8084\n",
      "Epoch 14/60\n",
      "300/300 [==============================] - 33s 109ms/step - loss: 0.8121\n",
      "Epoch 15/60\n",
      "300/300 [==============================] - 33s 112ms/step - loss: 0.7305\n",
      "Epoch 16/60\n",
      "300/300 [==============================] - 33s 111ms/step - loss: 0.7346\n",
      "Epoch 17/60\n",
      "300/300 [==============================] - 33s 110ms/step - loss: 0.6876\n",
      "Epoch 18/60\n",
      "300/300 [==============================] - 33s 110ms/step - loss: 0.7048\n",
      "Epoch 19/60\n",
      "300/300 [==============================] - 33s 111ms/step - loss: 0.6997\n",
      "Epoch 20/60\n",
      "300/300 [==============================] - 33s 111ms/step - loss: 0.6194\n",
      "Epoch 21/60\n",
      "300/300 [==============================] - 33s 109ms/step - loss: 0.6398\n",
      "Epoch 22/60\n",
      "300/300 [==============================] - 33s 110ms/step - loss: 0.5806\n",
      "Epoch 23/60\n",
      "300/300 [==============================] - 33s 110ms/step - loss: 0.6075\n",
      "Epoch 24/60\n",
      "300/300 [==============================] - 33s 111ms/step - loss: 0.6349\n",
      "Epoch 25/60\n",
      "300/300 [==============================] - 33s 110ms/step - loss: 0.5509\n",
      "Epoch 26/60\n",
      "300/300 [==============================] - 33s 109ms/step - loss: 0.5347\n",
      "Epoch 27/60\n",
      "300/300 [==============================] - 34s 114ms/step - loss: 0.5555\n",
      "Epoch 28/60\n",
      "300/300 [==============================] - 33s 111ms/step - loss: 0.5193\n",
      "Epoch 29/60\n",
      "300/300 [==============================] - 33s 109ms/step - loss: 0.4994\n",
      "Epoch 30/60\n",
      "300/300 [==============================] - 33s 110ms/step - loss: 0.5203\n",
      "Epoch 31/60\n",
      "300/300 [==============================] - 33s 111ms/step - loss: 0.4972\n",
      "Epoch 32/60\n",
      "300/300 [==============================] - 32s 108ms/step - loss: 0.4749\n",
      "Epoch 33/60\n",
      "300/300 [==============================] - 33s 111ms/step - loss: 0.4474\n",
      "Epoch 34/60\n",
      "300/300 [==============================] - 33s 109ms/step - loss: 0.4798\n",
      "Epoch 35/60\n",
      "300/300 [==============================] - 33s 111ms/step - loss: 0.4692\n",
      "Epoch 36/60\n",
      "300/300 [==============================] - 33s 111ms/step - loss: 0.4028\n",
      "Epoch 37/60\n",
      "300/300 [==============================] - 33s 110ms/step - loss: 0.4390\n",
      "Epoch 38/60\n",
      "300/300 [==============================] - 34s 112ms/step - loss: 0.4594\n",
      "Epoch 39/60\n",
      "300/300 [==============================] - 33s 109ms/step - loss: 0.4713\n",
      "Epoch 40/60\n",
      "300/300 [==============================] - 34s 112ms/step - loss: 0.4585\n",
      "Epoch 41/60\n",
      "300/300 [==============================] - 33s 109ms/step - loss: 0.4444\n",
      "Epoch 42/60\n",
      "300/300 [==============================] - 33s 111ms/step - loss: 0.4476\n",
      "Epoch 43/60\n",
      "300/300 [==============================] - 33s 110ms/step - loss: 0.4499\n",
      "Epoch 44/60\n",
      "300/300 [==============================] - 33s 110ms/step - loss: 0.3972\n",
      "Epoch 45/60\n",
      "300/300 [==============================] - 33s 110ms/step - loss: 0.4524\n",
      "Epoch 46/60\n",
      "300/300 [==============================] - 33s 110ms/step - loss: 0.3684\n",
      "Epoch 47/60\n",
      "300/300 [==============================] - 33s 110ms/step - loss: 0.4018\n",
      "Epoch 48/60\n",
      "300/300 [==============================] - 33s 109ms/step - loss: 0.4289\n",
      "Epoch 49/60\n",
      "300/300 [==============================] - 33s 110ms/step - loss: 0.4262\n",
      "Epoch 50/60\n",
      "300/300 [==============================] - 33s 110ms/step - loss: 0.3309\n",
      "Epoch 51/60\n",
      "300/300 [==============================] - 34s 112ms/step - loss: 0.3613\n",
      "Epoch 52/60\n",
      "300/300 [==============================] - 34s 112ms/step - loss: 0.4026\n",
      "Epoch 53/60\n",
      "300/300 [==============================] - 33s 109ms/step - loss: 0.4027\n",
      "Epoch 54/60\n",
      "300/300 [==============================] - 33s 110ms/step - loss: 0.3810\n",
      "Epoch 55/60\n",
      "300/300 [==============================] - 32s 108ms/step - loss: 0.3878\n",
      "Epoch 56/60\n",
      "300/300 [==============================] - 33s 111ms/step - loss: 0.3818\n",
      "Epoch 57/60\n",
      "300/300 [==============================] - 33s 109ms/step - loss: 0.3742\n",
      "Epoch 58/60\n",
      "300/300 [==============================] - 33s 110ms/step - loss: 0.3359\n",
      "Epoch 59/60\n",
      "300/300 [==============================] - 33s 110ms/step - loss: 0.3850\n",
      "Epoch 60/60\n",
      "300/300 [==============================] - 33s 108ms/step - loss: 0.3232\n"
     ]
    },
    {
     "data": {
      "text/plain": [
       "<keras.callbacks.History at 0x7f6d2c0b6b70>"
      ]
     },
     "execution_count": 15,
     "metadata": {},
     "output_type": "execute_result"
    }
   ],
   "source": [
    "model.fit_generator(gen(32), steps_per_epoch=300, epochs=60)"
   ]
  },
  {
   "cell_type": "code",
   "execution_count": 16,
   "metadata": {},
   "outputs": [
    {
     "name": "stdout",
     "output_type": "stream",
     "text": [
      "Accuracy:  0.22\n"
     ]
    }
   ],
   "source": [
    "correct = 0\n",
    "for i in range(100):\n",
    "    [X_test, y_test, _, _], _  = next(gen(1))\n",
    "    y_pred = base_model.predict(X_test)\n",
    "    ##用ctc_decode得到解答，自己寫可以參考下方\n",
    "    out = K.get_value(K.ctc_decode(y_pred, input_length=np.ones(y_pred.shape[0])*y_pred.shape[1], )[0][0])\n",
    "    out = ''.join([characters[x] for x in out[0]])\n",
    "    y_true = ''.join([characters[x] for x in y_test[0]])\n",
    "    if y_true == out:\n",
    "        correct += 1\n",
    "\n",
    "\n",
    "\n",
    "print(\"Accuracy: \", correct/100)"
   ]
  }
 ],
 "metadata": {
  "accelerator": "GPU",
  "colab": {
   "collapsed_sections": [],
   "name": "Captcha.ipynb",
   "provenance": []
  },
  "kernelspec": {
   "display_name": "keras_3",
   "language": "python",
   "name": "keras_3"
  },
  "language_info": {
   "codemirror_mode": {
    "name": "ipython",
    "version": 3
   },
   "file_extension": ".py",
   "mimetype": "text/x-python",
   "name": "python",
   "nbconvert_exporter": "python",
   "pygments_lexer": "ipython3",
   "version": "3.6.9"
  }
 },
 "nbformat": 4,
 "nbformat_minor": 1
}
